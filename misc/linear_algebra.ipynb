{
 "cells": [
  {
   "cell_type": "markdown",
   "metadata": {},
   "source": [
    "## Why covariance matrix has rank at most $n-1$\n",
    "\n",
    "See <http://stats.stackexchange.com/questions/178587/why-is-the-rank-of-covariance-matrix-at-most-n-1>. The key idea is to represent one term in your summation in terms of other terms. Then distribute components in this term into other terms. Same arugments apply to other cases, like why the between class scatter matrix only has rank $C-1$, where $C$ is number of classes."
   ]
  }
 ],
 "metadata": {
  "kernelspec": {
   "display_name": "Python 3",
   "language": "python",
   "name": "python3"
  },
  "language_info": {
   "codemirror_mode": {
    "name": "ipython",
    "version": 3
   },
   "file_extension": ".py",
   "mimetype": "text/x-python",
   "name": "python",
   "nbconvert_exporter": "python",
   "pygments_lexer": "ipython3",
   "version": "3.5.2"
  }
 },
 "nbformat": 4,
 "nbformat_minor": 1
}
