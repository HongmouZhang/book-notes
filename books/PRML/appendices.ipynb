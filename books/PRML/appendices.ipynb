{
 "cells": [
  {
   "cell_type": "markdown",
   "metadata": {},
   "source": [
    "## Appendix D\n",
    "### pp. 704\n",
    "\n",
    "> Equation (D.6)\n",
    "\n",
    "D.6 is just a special case of D.3, where we have a concrete form for $F[y]$. And to compute $\\frac{\\delta F}{\\delta y(x)}$ in this case, we need to compute, at each point x, the derivative of $\\int G(y(x), y'(x), x)$ w.r.t. $y(x)$. To compute this, consider the case when $y(x)$ increases $\\epsilon*\\eta(x)$, and then $y(x)$ will be now $y(x) + \\epsilon*\\eta(x)$, and $y'(x)$ will be now $y'(x) + \\epsilon*\\eta'(x)$. Then when doing taylor expansion at each $x$, we treat $y$ and $y'$ separately, and we can get the result.\n",
    "\n",
    "To make this more easily to understand, let's discretize the $y(x)$, then $G$ is a function of 1) many $y(x_i)$, 2) many $y'(x_i)$, 3) many $x_i$. Assuming these $x_i$ are sampled at step $\\delta x$. and D.6 is just taylor expansion when we change both $y(x)$ and $y'(x)$ by $\\epsilon*\\eta(x)$ and $\\epsilon*\\eta'(x)$ respectively. Since we don't change x, we don't have terms like $\\frac{\\partial G}{\\partial x}$.\n",
    "\n",
    "$$\n",
    "\\begin{align}\n",
    "F(y) & = \\sum_{x_i} G( y(x_i), y'(x_i), x_i) \\delta x \\\\\n",
    "F(y+\\epsilon*\\eta) &=  \\sum_{x_i} G( y(x_i) + \\epsilon\\eta(x_i), y'(x_i) + \\epsilon\\eta'(x_i), x_i) \\delta x\n",
    "\\end{align}\n",
    "$$\n",
    "\n",
    "and then do taylor expansion, and it's done. \n",
    "\n",
    "Notice that in these expressions, the relationship between $y$ and $y'$ in $G$ are not considered when we write $\\frac{\\partial G}{\\partial y}$, and  $\\frac{\\partial G}{\\partial y'}$.\n",
    "\n",
    "We do D.6 and then integrate to get D.7, in order to fit the form of D.3. Directly getting D.3 is more difficult, I guess.\n",
    "\n",
    "### pp. 705\n",
    "\n",
    "> The extension of the above results to a multidimensional variable x is straightforward.\n",
    "\n",
    "whenever I see multidimensional case, I will simply accept the author's derivation as correct... As I think usually this type C of V stuff is basically intractable if you go to high dimension."
   ]
  }
 ],
 "metadata": {
  "kernelspec": {
   "display_name": "Python 3",
   "language": "python",
   "name": "python3"
  },
  "language_info": {
   "codemirror_mode": {
    "name": "ipython",
    "version": 3
   },
   "file_extension": ".py",
   "mimetype": "text/x-python",
   "name": "python",
   "nbconvert_exporter": "python",
   "pygments_lexer": "ipython3",
   "version": "3.5.2"
  }
 },
 "nbformat": 4,
 "nbformat_minor": 1
}
