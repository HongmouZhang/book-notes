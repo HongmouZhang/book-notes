{
 "cells": [
  {
   "cell_type": "markdown",
   "metadata": {},
   "source": [
    "## Chapter 1  \n",
    "\n",
    "***W***ith d increases, the shell of a n-ball contains allmost all mass of the ball no matter how thin the shell is. So if the data forms a uniform distribution in the ball, the manifold of the data is actually the shell, which is only d-1 in dimension.  \n"
   ]
  },
  {
   "cell_type": "markdown",
   "metadata": {},
   "source": [
    "***B***ecause the angle between a diagonal line and any axes is so tiny (approximately 0), a data that is close to a diagonal line in high d will be close to origin in 2d visualization, since the projection of a dot on diagonal line on any axes will be tiny ( length\\_on\\_diag*cos\\pi/2 ).\n",
    "ecause the angle between a diagonal line and any axes is so tiny (approximately 0), a data that is close to a diagonal line in high d will be close to origin in 2d visualization, since the projection of a dot on diagonal line on any axes will be tiny ( length\\_on\\_diag*cos\\pi/2 ).\n",
    "![2d visualization is misleading](./images/chapter1/misleading_2d_visualization.png)\n"
   ]
  },
  {
   "cell_type": "markdown",
   "metadata": {},
   "source": [
    "***I***f all elements in a random vector are i.i.d.s with a finite 8th order monent, then considering the norm of this R.V, the mean of the norm grows in sqrt(D), the variance of the norm is near a constant for big D.   \n",
    "So, one can imagine that almost all these random vectors lie close to the thin surface of a sphere.   \n",
    "And, the Euclidean dist. btw any two vectos is approximately constant: \n",
    "* Difference of two i.i.d.s ( denoted as z here ) will have 0 mean  \n",
    "* Moment term of z can be expanded as sum or differences of moments of x, which is also finite  \n",
    "* This new random variable z, which also satisfies the requirments of the theorem below, should also have a near constant variance in its norm.  \n",
    "* Var(||z||) = E[(z-0)^2] = E[(x1 - x2)^2] \n",
    "\n",
    "![2d visualization is misleading](./images/chapter1/high_d_randVector_sameNorm_constantEuclDist.png)\n"
   ]
  },
  {
   "cell_type": "code",
   "execution_count": null,
   "metadata": {
    "collapsed": true
   },
   "outputs": [],
   "source": []
  }
 ],
 "metadata": {
  "anaconda-cloud": {},
  "kernelspec": {
   "display_name": "Python [default]",
   "language": "python",
   "name": "python3"
  },
  "language_info": {
   "codemirror_mode": {
    "name": "ipython",
    "version": 3
   },
   "file_extension": ".py",
   "mimetype": "text/x-python",
   "name": "python",
   "nbconvert_exporter": "python",
   "pygments_lexer": "ipython3",
   "version": "3.5.2"
  }
 },
 "nbformat": 4,
 "nbformat_minor": 1
}
