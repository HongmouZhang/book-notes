{
 "cells": [
  {
   "cell_type": "markdown",
   "metadata": {},
   "source": [
    "## Chapter 1  \n",
    "\n",
    "1.***W***ith d increases, the shell of a n-ball contains allmost all mass of the ball no matter how thin the shell is. So if the data forms a uniform distribution in the ball, the manifold of the data is actually the shell, which is only d-1 in dimension.  \n",
    "\n",
    "\n",
    "2. ***B***ecause the angle between a diagonal line and any axes is so tiny (approximately 0), a data that is close to a diagonal line in high d will be close to origin in 2d visualization, since the projection of a dot on diagonal line on any axes will be tiny ( length\\_on\\_diag*cos\\pi/2 ).\n",
    "ecause the angle between a diagonal line and any axes is so tiny (approximately 0), a data that is close to a diagonal line in high d will be close to origin in 2d visualization, since the projection of a dot on diagonal line on any axes will be tiny ( length\\_on\\_diag*cos\\pi/2 ).\n",
    "![2d visualization is misleading](./images/chapter1/misleading_2d_visualization.png)"
   ]
  },
  {
   "cell_type": "code",
   "execution_count": null,
   "metadata": {
    "collapsed": true
   },
   "outputs": [],
   "source": []
  }
 ],
 "metadata": {
  "anaconda-cloud": {},
  "kernelspec": {
   "display_name": "Python [default]",
   "language": "python",
   "name": "python3"
  },
  "language_info": {
   "codemirror_mode": {
    "name": "ipython",
    "version": 3
   },
   "file_extension": ".py",
   "mimetype": "text/x-python",
   "name": "python",
   "nbconvert_exporter": "python",
   "pygments_lexer": "ipython3",
   "version": "3.5.2"
  }
 },
 "nbformat": 4,
 "nbformat_minor": 1
}
