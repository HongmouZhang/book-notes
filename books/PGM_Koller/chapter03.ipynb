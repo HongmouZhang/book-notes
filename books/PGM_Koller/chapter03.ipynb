{
 "cells": [
  {
   "cell_type": "markdown",
   "metadata": {},
   "source": [
    "this is a collection of additional notes for chapter 3. Most of time, it should be sufficient to check out `01_Bayesian_Network.ipynb` in the dedicated folder for graphical model."
   ]
  },
  {
   "cell_type": "markdown",
   "metadata": {},
   "source": [
    "## 3.2 Bayesian Networks\n",
    "### pp. 62, Theorem 3.1\n",
    "The corresponding theorem for Thm 3.1 in the case of MRF has the stipulation that P must be positive. So I just wonder how can chain rule work when there's zero for conditioning variable. for chain rule, we can simply define the cond. prob given something impossible being zero. Therefore, even degenerate distributions can have chain rule factorization.\n",
    "\n",
    "But I should say don't think too hard about them, as you will never encounter them in practice.\n",
    "\n",
    "---"
   ]
  },
  {
   "cell_type": "markdown",
   "metadata": {},
   "source": [
    "## 3.3 Independencies in Graphs\n",
    "\n",
    "### pp. 73, Theorem 3.5\n",
    "\n",
    "Actually I'm not sure why does the author know those distributions with additional independence properties have zero measure, since I never specify the measure in CPD space."
   ]
  }
 ],
 "metadata": {
  "kernelspec": {
   "display_name": "Python 3",
   "language": "python",
   "name": "python3"
  },
  "language_info": {
   "codemirror_mode": {
    "name": "ipython",
    "version": 3
   },
   "file_extension": ".py",
   "mimetype": "text/x-python",
   "name": "python",
   "nbconvert_exporter": "python",
   "pygments_lexer": "ipython3",
   "version": "3.5.2"
  }
 },
 "nbformat": 4,
 "nbformat_minor": 1
}
