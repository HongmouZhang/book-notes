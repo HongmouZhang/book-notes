{
 "cells": [
  {
   "cell_type": "markdown",
   "metadata": {},
   "source": [
    "## 10.1 Variable Elimination and Clique Trees\n",
    "\n",
    "### pp. 346\n",
    "\n",
    "10.1.1-10.1.2: we can build a junction tree out of variable elimination.\n",
    "\n",
    "---"
   ]
  },
  {
   "cell_type": "markdown",
   "metadata": {},
   "source": [
    "## 10.2 Message Passing: Sum Product\n",
    "\n",
    "### pp. 355\n",
    "\n",
    "For corollary 10.1, the book discusses the partition function (normalization factor) when dealing with BN, MRF, and possibly with evidence. These are very precise. However, we can normalize messages along the way, since we don't care normalization."
   ]
  },
  {
   "cell_type": "markdown",
   "metadata": {},
   "source": [
    "## 10.3 Message Passing: Belief Update\n",
    "\n",
    "### pp. 370\n",
    "\n",
    "For 10.3.3.1 (incremental update), it says that the entire tree can be clibrated using a single pass. This is because each time we want to pass the info in $C_i$ to some other node $C_j$, we can always make $C_j$ to be root of our junction tree, and comparing to the original case without having new factor, the only part of undone forward pass for $C_j$ is the branch involving $C_i$. Thus, only path between them needs to be updated. This type of arugment works for each $C_j$, and the number of update messages together form a single pass.\n",
    "\n",
    "as said in pp. 370,\n",
    "\n",
    "> Interestingly, the same incremental-update approach applies to other forms of updating the distribution. In particular, we can multiply the distribution with a factor that is not an indicator function for some variable, an operation that is useful in various applications. The same analysis holds unchanged.\n",
    "\n",
    "This is true, as why taking single pass has nothing to do with the numerical values of the new factor.\n",
    "\n",
    "For 10.3.3.2, check my proof for \"Property about calibrated clique tree\" in `05_Junction_Tree.ipynb` in the special topic notes for PGM. This property is also the key for 10.3.3.3."
   ]
  }
 ],
 "metadata": {
  "kernelspec": {
   "display_name": "Python 3",
   "language": "python",
   "name": "python3"
  },
  "language_info": {
   "codemirror_mode": {
    "name": "ipython",
    "version": 3
   },
   "file_extension": ".py",
   "mimetype": "text/x-python",
   "name": "python",
   "nbconvert_exporter": "python",
   "pygments_lexer": "ipython3",
   "version": "3.5.2"
  }
 },
 "nbformat": 4,
 "nbformat_minor": 1
}
