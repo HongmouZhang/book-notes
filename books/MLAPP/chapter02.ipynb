{
 "cells": [
  {
   "cell_type": "markdown",
   "metadata": {},
   "source": [
    "## 2.7 Monte Carlo approximation\n",
    "\n",
    "### pp. 56\n",
    "Eq. (2.105) I think here we assume sigma hat is correct, not approximate.\n",
    "\n",
    "---\n",
    "\n",
    "## 2.8 Information theory\n",
    "\n",
    "### pp. 60\n",
    "Eq. (2.122) some alternative interpretations of mutual information.\n",
    "\n",
    "2.8.3.1 shows an alternative way to quantify mutual information between continuous random variables. Some code for it is at <http://minepy.readthedocs.io/en/latest/>."
   ]
  }
 ],
 "metadata": {
  "kernelspec": {
   "display_name": "Python 3",
   "language": "python",
   "name": "python3"
  },
  "language_info": {
   "codemirror_mode": {
    "name": "ipython",
    "version": 3
   },
   "file_extension": ".py",
   "mimetype": "text/x-python",
   "name": "python",
   "nbconvert_exporter": "python",
   "pygments_lexer": "ipython3",
   "version": "3.5.2"
  }
 },
 "nbformat": 4,
 "nbformat_minor": 1
}
