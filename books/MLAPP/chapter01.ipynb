{
 "cells": [
  {
   "cell_type": "markdown",
   "metadata": {},
   "source": [
    "## 1.3 Unsupervised Learning\n",
    "\n",
    "### pp. 16\n",
    "machine learning focuses on more precise models, and data mining focuses on more interpretable models.\n",
    "\n",
    "---\n",
    "\n",
    "## 1.4 Some basic concepts in machine learning\n",
    "\n",
    "### pp. 19\n",
    "1.4.3 why kNN, or in general kernel density estimation won't work in general at high D setting. But check the chapter 1 of PRML about this topic. It's not that bad."
   ]
  }
 ],
 "metadata": {
  "kernelspec": {
   "display_name": "Python 3",
   "language": "python",
   "name": "python3"
  },
  "language_info": {
   "codemirror_mode": {
    "name": "ipython",
    "version": 3
   },
   "file_extension": ".py",
   "mimetype": "text/x-python",
   "name": "python",
   "nbconvert_exporter": "python",
   "pygments_lexer": "ipython3",
   "version": "3.5.2"
  }
 },
 "nbformat": 4,
 "nbformat_minor": 1
}
