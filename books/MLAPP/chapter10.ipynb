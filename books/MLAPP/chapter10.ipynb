{
 "cells": [
  {
   "cell_type": "markdown",
   "metadata": {
    "deletable": true,
    "editable": true
   },
   "source": [
    "Essentially, this chapter covers similar things as in Koller's PGM book.\n",
    "\n",
    "Just a few notes.\n",
    "\n",
    "* 10.5.2 talks about three types of Markov property for directed model. If memory serves me right, in Koller's book, only two types of Markov properties are discussed for directed one (three for undirected). But anyway, since they are all equivalent.\n",
    "* 10.6 it looks like incoporating the decision process based on inference into a graph, which might be just cosmetic or a matter of style."
   ]
  }
 ],
 "metadata": {
  "kernelspec": {
   "display_name": "Python 3",
   "language": "python",
   "name": "python3"
  },
  "language_info": {
   "codemirror_mode": {
    "name": "ipython",
    "version": 3
   },
   "file_extension": ".py",
   "mimetype": "text/x-python",
   "name": "python",
   "nbconvert_exporter": "python",
   "pygments_lexer": "ipython3",
   "version": "3.5.3"
  }
 },
 "nbformat": 4,
 "nbformat_minor": 1
}
