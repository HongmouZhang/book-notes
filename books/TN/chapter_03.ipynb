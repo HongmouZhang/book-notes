{
 "cells": [
  {
   "cell_type": "markdown",
   "metadata": {},
   "source": [
    "notes for Chapter 3 of *Theoretical Neuroscience* by P. Dayan and L. F. Abbott."
   ]
  },
  {
   "cell_type": "markdown",
   "metadata": {},
   "source": [
    "## 3.2 Discrimination\n",
    "\n",
    "This sections establishes the importance of ROC curve, and two-alternative forced choice experiment design.\n",
    "\n",
    "For more interpretation on area of RUC, see [this stackexchange page](https://stats.stackexchange.com/questions/132777/what-does-auc-stand-for-and-what-is-it) [local version](./chapter_03/auroc.htm)\n",
    "\n",
    "all the math derivations in this section all make sense, although my rusty memory of calculus doesn't allow me to fully verify them. There might be some missing assumptions, etc., but they all intuitively make sense.\n",
    "\n",
    "### pp. 94 ROC interpretation under two-alternative forced-choice test.\n",
    "\n",
    "> Thus, the area under the ROC curve is the probability of responding correctly in the two-alternative forced-choice test.\n",
    "\n",
    "### pp. 94 d-prime\n",
    "\n",
    "> It is common to quote $d'$ values even for non-Gaussian distributions by inverting the relationship between $P[\\mathrm{correct}]$ and $d'$ in equation 3.10.\n",
    "\n",
    "### pp. 95 simulation of two-alternative forced-choice task.\n",
    "\n",
    "the anti-neuron is just a random sample of response for the other class. It's consistent with the previous stackexchange page: \"The expectation that a uniformly drawn random positive is ranked before a uniformly drawn random negative\".\n",
    "\n",
    "it's interesting why one neuron can perform this well. There are some explanations.\n",
    "\n",
    "> One speculation is that correlations in the response variability between neurons limit the performance of the monkey.\n",
    "\n",
    "### pp. 95 likelihood ratio test.\n",
    "\n",
    "in previous discussion, the score function used for classification is the firing rate itself, and we use score to compare against some threshold to make decision. By using different threshold, we get trade off between $\\alpha$ and $\\beta$. However, there's possibility that we may use some other function of $r$ as score function to get better trade off of $\\alpha$ and $\\beta$. Here, the authors show that among all classification procedures using score function of $r$ and some threshold, likelihood ratio test is the best.\n",
    "\n",
    "In this particular study, likelihood ratio and $r$ itself has a monotonic relationship. Thus they are equally powerful. However, this is not necessarily true.\n",
    "\n",
    "### pp. 96 Eq. (3.14) ratio and ROC.\n",
    "\n",
    "This relationship always holds; this doesn't say that $r$ itself is always same as using ratio. It can be the case that for different $r$ we have the same ratio.\n",
    "\n",
    "### pp. 96 Eq. (3.15) and Eq. (3.16) derivation of ratio test from a Bayesian perspective.\n",
    "\n",
    "### pp. 97 Eq. (3.18) score function for continuous value discrimination.\n",
    "\n",
    "this is closely related to fisher information. Check Eq. (3.43)."
   ]
  },
  {
   "cell_type": "markdown",
   "metadata": {},
   "source": [
    "## 3.3 Population Coding\n",
    "\n",
    "### pp. 109 Eqs. (3.42) and (3.43) they are not always the same.\n",
    "\n",
    "Check Section 7.4 \"Information and Efficiency\" of *Modern Mathematical Statistics with Applications, 2nd edition* by Jay L. Devore and Kenneth N. Berk. There are certain technical assumptions for this to hold. However, I believe they are most of the time satisified."
   ]
  },
  {
   "cell_type": "markdown",
   "metadata": {},
   "source": [
    "## Appendix\n",
    "\n",
    "### A\n",
    "\n",
    "skipped. Notice that ratio test is most powerful (biggest $\\beta$) given fixed false alarm rate ($\\alpha$).\n",
    "\n",
    "### B\n",
    "\n",
    "skipped."
   ]
  }
 ],
 "metadata": {
  "kernelspec": {
   "display_name": "Python 3",
   "language": "python",
   "name": "python3"
  },
  "language_info": {
   "codemirror_mode": {
    "name": "ipython",
    "version": 3
   },
   "file_extension": ".py",
   "mimetype": "text/x-python",
   "name": "python",
   "nbconvert_exporter": "python",
   "pygments_lexer": "ipython3",
   "version": "3.6.1"
  }
 },
 "nbformat": 4,
 "nbformat_minor": 2
}
