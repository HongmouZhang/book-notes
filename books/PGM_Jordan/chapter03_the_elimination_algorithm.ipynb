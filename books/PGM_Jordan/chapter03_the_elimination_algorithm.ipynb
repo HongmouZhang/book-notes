{
 "cells": [
  {
   "cell_type": "markdown",
   "metadata": {},
   "source": [
    "## General Notes\n",
    "\n",
    "Algorithm Eliminate is for computing ONE marginal probability, regardless of directed or undirected.\n",
    "\n",
    "GraphEliminate (undriected or directed) are for showing the underlying graph during each step of elimination. This underlying graph is undirected, and core concept for elimination is undirected."
   ]
  },
  {
   "cell_type": "markdown",
   "metadata": {},
   "source": [
    "## 3.1 Probabilistic Inference\n",
    "\n",
    "### pp. 12\n",
    "Last paragraph: In the undirected case, there's no notion of ancestor, and all nodes the worst case...\n",
    "\n",
    "---"
   ]
  },
  {
   "cell_type": "markdown",
   "metadata": {},
   "source": [
    "## 3.2 Graph Elimination\n",
    "\n",
    "### pp. 17\n",
    "\n",
    "the footnote of this page may be talking about the foundation of approximate inference.\n",
    "\n",
    "---"
   ]
  }
 ],
 "metadata": {
  "kernelspec": {
   "display_name": "Python 3",
   "language": "python",
   "name": "python3"
  },
  "language_info": {
   "codemirror_mode": {
    "name": "ipython",
    "version": 3
   },
   "file_extension": ".py",
   "mimetype": "text/x-python",
   "name": "python",
   "nbconvert_exporter": "python",
   "pygments_lexer": "ipython3",
   "version": "3.5.2"
  }
 },
 "nbformat": 4,
 "nbformat_minor": 1
}
