{
 "cells": [
  {
   "cell_type": "markdown",
   "metadata": {},
   "source": [
    "## 2.1 Directed graphs and joint probabilities\n",
    "\n",
    "### pp. 13\n",
    "The fact that some probability distribution can have more conditional independencies than those implied by its graph points out the difference between universally quantified statements and existentially quantified statements.\n",
    "\n",
    "### pp. 17\n",
    "\n",
    "Bayes ball algorithm is a way to decide whether a given conditional independence statement holds. To check whether $X_A$ and $X_B$ are conditionally independent given $X_C$, I believe we only have to check the ball algorithm from $X_A$ to $X_B$, as whether the path allows the ball to pass (should be) bidirectional.\n",
    "\n",
    "This algorithm looks correct in the beginning. But to be precise, we have to define what do we mean by \"a ball reaches some node\". I think here, ball is not jumping around different nodes at all; instead, balls are jumping around as different directed arrows along different edges in the graph. We say a ball reaches a node if it's on some edge connected to this node. So all the rules and figures about Bayesian ball is ball how to transform from one directed arrow to another, and an arrow can only change its direction on the same edge by some \"bouncing back\" rules.\n",
    "\n",
    "---"
   ]
  },
  {
   "cell_type": "markdown",
   "metadata": {},
   "source": [
    "## 2.2 Undirected Graphical Models\n",
    "\n",
    "### pp. 29\n",
    "\n",
    "This pages tries to rationalize the form of factorization for MRF (same thing is done for BN in pp. 5).\n",
    "\n",
    "1. local functions CANNOT extend beyond cliques.\n",
    "2. arbitrary functions should be allowed on cliques.\n",
    "\n",
    "Notice that here, the definition of undirected graphical models is using maximal cliques, which is the most general one.\n",
    "\n",
    "### pp. 31\n",
    "\n",
    "Eq. 2.38 and the text below argues that factorization in terms of marginal probabilities is impossible. SO the partition function becomes necessary. I haven't checked whether indeed $p(y)=0$ or $p(y)=1$, but it should be true. Otherwise, who likes partition function in the first place?\n",
    "\n",
    "### pp. 33\n",
    "\n",
    "In 2.2.3, I think $U_2$ has to be strictly positive distributions as well.\n",
    "\n",
    "---"
   ]
  },
  {
   "cell_type": "markdown",
   "metadata": {},
   "source": [
    "## 2.3 Parameterizations\n",
    "\n",
    "### pp. 36\n",
    "\n",
    "factorization is a richer concept than conditional independence, as we can't express Eq. (2.48) using a proper MRF."
   ]
  }
 ],
 "metadata": {
  "kernelspec": {
   "display_name": "Python 3",
   "language": "python",
   "name": "python3"
  },
  "language_info": {
   "codemirror_mode": {
    "name": "ipython",
    "version": 3
   },
   "file_extension": ".py",
   "mimetype": "text/x-python",
   "name": "python",
   "nbconvert_exporter": "python",
   "pygments_lexer": "ipython3",
   "version": "3.5.2"
  }
 },
 "nbformat": 4,
 "nbformat_minor": 1
}
