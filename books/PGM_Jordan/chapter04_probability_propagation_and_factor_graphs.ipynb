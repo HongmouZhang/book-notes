{
 "cells": [
  {
   "cell_type": "markdown",
   "metadata": {},
   "source": [
    "## 4.1 Probabilistic inference on trees\n",
    "\n",
    "### pp. 4\n",
    "In the end, it says that directed tree and undirected tree encode same set of independence assertions. This is also mentioned in a more general way, in Koller's book (all moral BN is perfect map for a corresponding undirected network).\n",
    "\n",
    "### pp. 5-6\n",
    "One way to convert MRF tree to BN tree is shown, and when doing conditioning, the difference between the two become blurred. Although there are some tricks that can be used for BN, i n general, we always have to deal with the case when evidence nodes are at leaves. Check last paragraph of 4.1.2, at pp. 6.\n",
    "\n",
    "### pp. 12\n",
    "\n",
    "In the collect phase, this algorithm basically does a postorder traversal; in the distribute phase, it does a preorder traversal. See <https://www.khanacademy.org/computer-programming/depth-first-traversals-of-binary-trees/934024358>.\n",
    "\n",
    "In pre/in/post order traversal, the pre/in/post means the relative timing between our action (here, sending message) and recursively calling other nodes. For non-binary tree, it's difficult to design an inorder traversal, as we may have varying number of children.\n",
    "\n",
    "---"
   ]
  },
  {
   "cell_type": "markdown",
   "metadata": {},
   "source": [
    "## 4.2 Factor Graphs and the `Sum-Product` algorithm\n",
    "\n",
    "### pp. 17\n",
    "\n",
    "Details about how to mimic factor graph in the formalism of BN and MRF.\n",
    "\n",
    "#### 4.9 (a) \n",
    "for (a),  each Z takes values 0,1,2,3 $(|Z_1| =  |X_1| \\times |X_2|)$\n",
    "\n",
    "and each $f(z_1)$, $z_1$ is one value that $Z_1$ can take, we assign it value $f(x_1,x_2)$, for a certain combination of $x_1, x_2$. also, we should have $f(Z_1, X_1)$ and $f(Z_1, X_2)$, so that their product is 1 if and only if $Z_1$ corresponds to the value that indicates a particular configuration $(x1,x2)$ (that means, $X_1, X_2$ is equal to the $X_1, X_2$ encoded in the $Z_1$). otherwise, $f(Z_1,X_1)$ and $f(Z_1,X_2)$ takes zero.\n",
    "\n",
    "#### 4.9 (b)\n",
    "\n",
    "in this directed case, we set $P(X=1) = P(X=0) = 1/2$.\n",
    "\n",
    "Then, for each combination of $x1,x2$, we set $p(W_1 = 1\\mid x_1,x_2) = f(x_1,x_2)$.\n",
    "\n",
    "so we convert $P(X1,X2,X3)$, into $P(X_1,X_2,X_3| W_1=1,W_2=1,W_3=1)$. Notice this is unnormalized, since $f$ is arbitrary.\n",
    "\n",
    "We don't have to care about what probability to be assigned when W=0. because when we always condition on $W=1$.\n",
    "\n",
    "#### my opinion.\n",
    "\n",
    "These two approaches are both very awkward. In the MRF, we create some unnecessary zero probability configurations; in BN, we create some conditioning.\n",
    "\n",
    "### pp. 19\n",
    "\n",
    "as long as it's a tree, factor algorithm is no different from sum-product. They are just efficient ways to do Elimination algorithm, doing Variable elimination more efficiently. That's all.\n",
    "\n",
    "### pp. 20\n",
    "\n",
    "the algorithm is correct because u-collect and v-collect alternates, (as well as for distribute), and the bipartite structure means this alternation just works.\n",
    "\n",
    "### pp. 23\n",
    "\n",
    "for Fig. 4.14b, $|Z| = |X2| \\times |X3| \\times |X4|$. $f(X2,Z), f(X3,Z), f(X4,Z)$ use the indicator trick before in characterizing factorization in undirected graph.\n",
    "\n",
    "### pp. 24\n",
    "sum product also applies to polytree, since all polytrees' factor graphs are valid junction trees.\n",
    "\n",
    "In Fig 4.15. (b), horizontal square nodes means singleton potentials.\n",
    "\n",
    "---"
   ]
  }
 ],
 "metadata": {
  "kernelspec": {
   "display_name": "Python 3",
   "language": "python",
   "name": "python3"
  },
  "language_info": {
   "codemirror_mode": {
    "name": "ipython",
    "version": 3
   },
   "file_extension": ".py",
   "mimetype": "text/x-python",
   "name": "python",
   "nbconvert_exporter": "python",
   "pygments_lexer": "ipython3",
   "version": "3.5.2"
  }
 },
 "nbformat": 4,
 "nbformat_minor": 1
}
