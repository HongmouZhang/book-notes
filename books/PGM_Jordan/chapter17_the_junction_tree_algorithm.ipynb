{
 "cells": [
  {
   "cell_type": "markdown",
   "metadata": {},
   "source": [
    "## 17.1 From elimination to the junction tree\n",
    "\n",
    "### pp. 4\n",
    "\n",
    "second paragraph of 17.1 gives a very pithy and insightful comment on variable elimination.\n",
    "\n",
    "---"
   ]
  },
  {
   "cell_type": "markdown",
   "metadata": {},
   "source": [
    "## 17.2 Potentials\n",
    "\n",
    "### pp. 10\n",
    "\n",
    "second to last chapter for 17.2 tries to explain why moralization is necessary. because (non-trivial) elimination will ultimately introduce these edges.\n",
    "\n",
    "---"
   ]
  },
  {
   "cell_type": "markdown",
   "metadata": {},
   "source": [
    "## 17.4 Clique trees\n",
    "\n",
    "### pp. 13\n",
    "Second paragraph of 17.4 says that marginal probabilities are sufficient for many purposes. It says cliques are sufficient statistics for distributions, and that expected sufficient statistics are computed in EM algorithm. I think these arguments mostly apply to exponential family distributions, and may not work for others. See this [EM tutorial](./emtutorial.pdf), originally from <http://www.stat.ucla.edu/~yuille/courses/stat153/emtutorial.pdf>.\n",
    "\n",
    "### pp. 15\n",
    "\n",
    "At beginning of this page, it talks about division by zero.\n",
    "\n",
    "the supportive holds in the beginning of junction tree algorithm, where all sepsets are 1.\n",
    "\n",
    "during each update (17.14) and (17.15), before we have supportive. then after update, the only thing that may violate supportive is $\\phi_s^*$, which may be zero for some configuration of variables in $S$. This means that $\\psi_V$ is also zero when those subset of variables in $S$ take that configuration, since $phi_s^*$ comes from marginalization of $\\psi_V$, and if it's zero for that configuration of variables in $S$, then each term in marginalization must be zero, since all terms are non negative. Also, $\\psi_W^*$ is zero for that configuration of variables in $S$, because its numerator has $\\phi_s^*$. Thus, supportive is preserved.\n",
    "\n",
    "In addition, I don't think we need to think about zero, which never appears in practice, and using zero may introduce some difficulties for MRF, as many theorems related to it assume a positive distribution."
   ]
  },
  {
   "cell_type": "markdown",
   "metadata": {},
   "source": [
    "## 17.5 Local consistency\n",
    "\n",
    "with RIP, and clique tree, local consistency implies global consistency. By design of the junction tree algorithm used here, if there's no message update from a third clique, updating two cliques back and forth will gurantee that they are consistent.\n",
    "\n",
    "---"
   ]
  },
  {
   "cell_type": "markdown",
   "metadata": {},
   "source": [
    "## 17.6 Propagation in a clique tree\n",
    "\n",
    "### pp. 18\n",
    "\n",
    "the proof of this **message-passing protocol** is merely said that we can make the network stable (locally consistent) following such sequence of update. You should notice that after (17.14)-(17.24), any pair of potentials can be made locally consistent, if they don't get update from other places. This is the underlying reason for such passing protocol."
   ]
  },
  {
   "cell_type": "markdown",
   "metadata": {},
   "source": [
    "## 17.7 Junction Tree property\n",
    "\n",
    "### pp. 22\n",
    "\n",
    "Lemma 1 (Eq. (17.32)) should be rewritten as S separates R from U, in a pure graphical setting, as that separation is based on the Markov property of the graph. This lemma is similar to one direction of Thm 10.2 in Koller's book."
   ]
  }
 ],
 "metadata": {
  "kernelspec": {
   "display_name": "Python 3",
   "language": "python",
   "name": "python3"
  },
  "language_info": {
   "codemirror_mode": {
    "name": "ipython",
    "version": 3
   },
   "file_extension": ".py",
   "mimetype": "text/x-python",
   "name": "python",
   "nbconvert_exporter": "python",
   "pygments_lexer": "ipython3",
   "version": "3.5.2"
  }
 },
 "nbformat": 4,
 "nbformat_minor": 1
}
