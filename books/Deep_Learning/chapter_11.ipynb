{
 "cells": [
  {
   "cell_type": "markdown",
   "metadata": {},
   "source": [
    "## 11.0\n",
    "\n",
    "### pp. 421 practice is more important than algorithms.\n",
    "\n",
    "> Most of this book is about different machine learning models, training algorithms, and objective functions. This may give the impression that the most important ingredient to being a machine learning expert is knowing a wide variety of machine learning techniques and being good at different kinds of math. In practice, one can usually do much better with a correct application of a commonplace algorithm than by sloppily applying an obscure algorithm."
   ]
  },
  {
   "cell_type": "markdown",
   "metadata": {},
   "source": [
    "## 11.2 Default Baseline Models\n",
    "\n",
    "Check it out. Some default recommendations, in 2016."
   ]
  },
  {
   "cell_type": "markdown",
   "metadata": {},
   "source": [
    "## 11.4 Selecting Hyperparameters\n",
    "\n",
    "### pp. 429 learning rate is most important.\n",
    "\n",
    "> The learning rate is perhaps the most important hyperparameter. ... The learning rate has a U-shaped curve for training error, illustrated in figure 11.1. ... When the learning rate is too small, training is not only slower, but may become permanently stuck with a high training error. This effect is poorly understood (it would not happen for a convex loss function).\n",
    "\n",
    "This behavior when learning rate is small is interesting...\n",
    "\n",
    "### pp. 434-435 use random search instead of grid search\n",
    "\n",
    "since many parameters don't affect result, and random search allows to explore more values of parameters that do affect.\n",
    "\n",
    "### pp. 436 currently, model-based hyperparameter optimization is not mature."
   ]
  }
 ],
 "metadata": {
  "kernelspec": {
   "display_name": "Python 3",
   "language": "python",
   "name": "python3"
  },
  "language_info": {
   "codemirror_mode": {
    "name": "ipython",
    "version": 3
   },
   "file_extension": ".py",
   "mimetype": "text/x-python",
   "name": "python",
   "nbconvert_exporter": "python",
   "pygments_lexer": "ipython3",
   "version": "3.5.2"
  }
 },
 "nbformat": 4,
 "nbformat_minor": 1
}
