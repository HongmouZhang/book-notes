{
 "cells": [
  {
   "cell_type": "markdown",
   "metadata": {},
   "source": [
    "## 2.3 Identity and Inverse Matrices\n",
    "\n",
    "### pp. 37 never compute inverse directly\n",
    "\n",
    "> However, $A^{-1}$ is primarily useful as a theoretical tool, and should not actually be used in practice for most software applications. Because $A^{-1}$ can be represented with only limited precision on a digital computer,  algorithms that make use of the value of $b$ can usually obtain more accurate estimates of $x$."
   ]
  },
  {
   "cell_type": "markdown",
   "metadata": {},
   "source": [
    "## 2.10 The Trace Operator\n",
    "\n",
    "### pp. 47 trace can be useful in derivation.\n",
    "\n",
    "> Writing an expression in terms of the trace operator opens up opportunities to manipulate the expression using many useful identities."
   ]
  },
  {
   "cell_type": "markdown",
   "metadata": {},
   "source": [
    "## 2.12 Example: Principal Components Analysis\n",
    "\n",
    "Note that usually people say \"Principal Component Analysis\", not \"Principal Components Analysis\".\n",
    "\n",
    "### pp. 52\n",
    "\n",
    "> This derivation is specific to the case of $l = 1$ and recovers only the first principal component. More generally, when we wish to recover a basis of principal components, the matrix $D$ is given by the $l$ eigenvectors corresponding to the largest eigenvalues. This may be shown using proof by induction. We recommend writing this proof as an exercise.\n",
    "\n",
    "I feel PCA is not proved by induction. Check solution of Ex 12.1 of PRML. Actually I think that solution is wrong in terms of using induction. Instead, it shows that every $d$ (using notation in this DL book) must be an eigenvector. Since you also need all vectors to be orthogonal (I mean you can always orthogonalize them without affecting the representational power). Then clearly, they must be the top K eigenvectors to make max variance or minimize error. There's no induction involved at all."
   ]
  }
 ],
 "metadata": {
  "kernelspec": {
   "display_name": "Python 3",
   "language": "python",
   "name": "python3"
  },
  "language_info": {
   "codemirror_mode": {
    "name": "ipython",
    "version": 3
   },
   "file_extension": ".py",
   "mimetype": "text/x-python",
   "name": "python",
   "nbconvert_exporter": "python",
   "pygments_lexer": "ipython3",
   "version": "3.5.2"
  }
 },
 "nbformat": 4,
 "nbformat_minor": 1
}
