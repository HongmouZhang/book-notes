{
 "cells": [
  {
   "cell_type": "markdown",
   "metadata": {},
   "source": [
    "## 4.3 Gradient-Based Optimization\n",
    "\n",
    "### pp. 86 gradient descent like procedure is used everywhere.\n",
    "\n",
    "> Although gradient descent is limited to optimization in continuous spaces, the general concept of repeatedly making a small move (that is approximately the best small move) towards better configurations can be generalized to discrete spaces.\n",
    "\n",
    "\n",
    "### pp. 92 newton's method assumes positive definitive Hessian, which might not be true in general for Deep Learning\n",
    "\n",
    "> As discussed in section 8.2.3, Newton’s method is only appropriate when the nearby critical point is a minimum (all the eigenvalues of the Hessian are positive), whereas gradient descent is not attracted to saddle points unless the gradient points toward them.\n",
    "\n",
    "### pp. 93 convex optimization loses popularity.\n",
    "\n",
    "> However, in general, the importance of convex optimization is greatly diminished in the context of deep learning."
   ]
  }
 ],
 "metadata": {
  "kernelspec": {
   "display_name": "Python 3",
   "language": "python",
   "name": "python3"
  },
  "language_info": {
   "codemirror_mode": {
    "name": "ipython",
    "version": 3
   },
   "file_extension": ".py",
   "mimetype": "text/x-python",
   "name": "python",
   "nbconvert_exporter": "python",
   "pygments_lexer": "ipython3",
   "version": "3.5.2"
  }
 },
 "nbformat": 4,
 "nbformat_minor": 1
}
