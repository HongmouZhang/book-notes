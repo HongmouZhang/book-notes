{
 "cells": [
  {
   "cell_type": "markdown",
   "metadata": {
    "deletable": true,
    "editable": true
   },
   "source": [
    "## 14.0\n",
    "\n",
    "### pp. 502 alternative, more biological ways to train autoencoders\n",
    "\n",
    "> Unlike general feedforward networks, autoencoders may also be trained using recirculation (Hinton and McClelland, 1988), a learning algorithm based on comparing the activations of the network on the original input to the activations on the reconstructed input. Recirculation is regarded as more biologically plausible than back-propagation, but is rarely used for machine learning applications."
   ]
  },
  {
   "cell_type": "markdown",
   "metadata": {},
   "source": [
    "## 14.1 Undercomplete Autoencoders\n",
    "\n",
    "### pp. 503 equivalence between PCA and linear autoencoder.\n",
    "\n",
    "> When the decoder is linear and $L$ is the mean squared error, an undercomplete autoencoder learns to span the same subspace as PCA. In this case, an autoencoder trained to perform the copying task has learned the principal subspace of the training data as a side-effect.\n",
    "\n",
    "Let me give a proof of this. Suppose your original data is $D$-dimensional. Then a linear autoencoder with $K$ hidden units has the following equation.\n",
    "\n",
    "\\begin{align}\n",
    "\\hat{x} &= C(Ax + b) + d, A \\in \\mathbb{R}^{K \\times D}, b \\in \\mathbb{R}^{K \\times 1}, C \\in \\mathbb{R}^{D \\times K}, d \\in \\mathbb{R}^{D \\times 1} \\\\\n",
    " & = C(Ax) + (Cb+d)\n",
    "\\end{align}\n",
    "\n",
    "No matter how you learn your 4 (matrix) variables, still, it lives under a $K$-dimensional affine space (because with bias $Cb+d$). Then check pp. 563 of PRML, Eq. (12.10). Based on that derivation, you will know that, $K$-dimensional affine space can't do better than PCA. Thus, your autoencoder can't do better than PCA."
   ]
  }
 ],
 "metadata": {
  "kernelspec": {
   "display_name": "Python 3",
   "language": "python",
   "name": "python3"
  },
  "language_info": {
   "codemirror_mode": {
    "name": "ipython",
    "version": 3
   },
   "file_extension": ".py",
   "mimetype": "text/x-python",
   "name": "python",
   "nbconvert_exporter": "python",
   "pygments_lexer": "ipython3",
   "version": "3.5.3"
  }
 },
 "nbformat": 4,
 "nbformat_minor": 1
}
