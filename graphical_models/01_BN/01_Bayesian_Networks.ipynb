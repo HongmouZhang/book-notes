{
 "cells": [
  {
   "cell_type": "markdown",
   "metadata": {},
   "source": [
    "this is a collection of core ideas and concepts about Bayesian Network. It's an excerpt from Chapter 2 (Conditional Independence and Factorization) of Jordan's PGM book, and Chapter 3 of Koller's PGM book, as well as some slides (`lecture2-BNrepresentation.pdf`) from Course 10-708 of CMU (Spring 2014)"
   ]
  },
  {
   "cell_type": "markdown",
   "metadata": {},
   "source": [
    "## conditional independence encoded in a graph\n",
    "\n",
    "Given the graph structure of the BN, or equivalently its factorization of probability distribution (which has an one-to-one correspondence with the graph structure), we can immediately read out the following set of (non-exhausitve) conditional independence statements.\n",
    "\n",
    "### Koller book / 10-708 slides \n",
    "\n",
    "You can read out directly what they call **local independencies**.\n",
    "\n",
    "slides (from lecture 2):\n",
    "![](./cond_indep_local_10708.png)\n",
    "\n",
    "book (pp. 57)\n",
    "![](./cond_indep_local_Koller.png)\n",
    "\n",
    "### Jordan book\n",
    "\n",
    "Or you can do a topo sort and get the following set of conditional independencies (**basic conditional independence statements**).\n",
    "\n",
    "book (Chapter 2, pp. 9)\n",
    "![](./cond_indep_local_Jordan.png)\n",
    "\n",
    "~~They are all the same.~~ (well, not exactly, as you can have multiple topological orderings, and they yield different independence statements under Jordan's definition; consider 3 totally independent nodes). So maybe either you can never get all those local independencies from topological sorting, or you have to enumerate all possible orderings.\n",
    "\n",
    "However, all these definitions imply a bigger set of conditional independencies, which are defined by d-separation in Koller book (pp. 71, Def 3.7) / 10-708, or Bayesian ball algorithm in Jordan book (pp. 17 of Chapter 2) / 10708 (pp. 23 from lecture 2).\n",
    "\n",
    "Koller book: \n",
    "![](./d_sep_Koller.png)\n",
    "\n",
    "slides (from lecture 2):\n",
    "![](./d_sep_10708.png)\n",
    "\n",
    "\n",
    "10-708 also proposed a definition based on moralized ancestral graph, which I don't find other books to support. So simply just stick to d-sep as the definition of the set of conditional independencies implied by a BN.\n",
    "\n",
    "\n",
    "slides (from lecture 2):\n",
    "![](./d_sep_10708_ancestral.png)"
   ]
  },
  {
   "cell_type": "markdown",
   "metadata": {},
   "source": [
    "## Equivalence Theorem\n",
    "This establishes the equivalence between using graph structure and the set of conditional independencies. \n",
    "\n",
    "More specifically, the set of distributions specified by \n",
    "\n",
    "1. factorization (P factorizes according to G)\n",
    "2. set of conditional independence statements (G is an I-map of P, or P satisfies conditional independence statements from G)\n",
    "\n",
    "are the same.\n",
    "\n",
    "slides (from lecture 2):\n",
    "![](./equi_thm_10708.png)\n",
    "\n",
    "For Koller book, it's given in Thm 3.1 and Thm 3.2. Notice in these two, **local independencies** are used (Check Def 3.2 in Koller's book, it says that G is an I-map for P when $\\mathcal{I}_l(G) \\subseteq \\mathcal{I}(P)$ (notice $l$). But it's easy to replace Thm 3.2 with Thm 3.3 and notice that if Thm 3.1 holds, then a \"global\" version of that Thm also holds. (see below for detail). Using local version is good for Thm 3.1, since this makes assumption for the theorem weaker.\n",
    "\n",
    "Thm 3.1 (pp. 62):\n",
    "![](./equi_thm_Koller_31.png)\n",
    "Here, I-map means the local I-map. Clearly, satisfying global I-map implies satisfying local I-map.\n",
    "\n",
    "Thm 3.2 (pp. 63):\n",
    "![](./equi_thm_Koller_32.png)\n",
    "This can be replaced by Thm 3.3 (next section) to make it global.\n",
    "\n",
    "IMO, this equivalence says nothing about whether the set of conditional independence statements are exhaustive for that factorization. Maybe factorization always implies some more conditional independences, or those local independence implies something more.\n",
    "\n",
    "So we have the following discussion about **completeness**.\n",
    "\n",
    "## Soundness and completeness of d-sep.\n",
    "\n",
    "This is about whether the set of conditional independence statements inferred from a BN graph using d-sep is the (maximum) set of conditional independence statements applicable to every P factorized according to the given BN graph.\n",
    "\n",
    "### Soundness\n",
    "\n",
    "Koller book (pp. 72, Thm 3.3)\n",
    "\n",
    "![](./soundness_Koller.png)\n",
    "\n",
    "\n",
    "slides (from lecture 2):\n",
    "![](./soundness_10708.png)\n",
    "\n",
    "### Completeness\n",
    "\n",
    "This means that every conditional independence statement applicable to ALL distributions factorized according to G has been found by d-sep.\n",
    "\n",
    "Koller book (pp. 73, Thm 3.4)\n",
    "![](./completeness_Koller_1.png)\n",
    "\n",
    "A stronger version, telling you that \"some distribution\" almost constitute all distributions.\n",
    "![](./completeness_Koller_2.png)\n",
    "\n",
    "check pp. 31 and pp. 32 of the slides. They are the same as Thm 3.4 and Thm 3.5 above.\n",
    "\n",
    "\n",
    "## Summary\n",
    "\n",
    "* local independence <-> factorization (Thm 3.1 and 3.2)\n",
    "* I(factorization) = I(global independence) (Thm 3.3 and 3.5)\n",
    "* local independence -> global independence (local independence <-> factorization, plus Thm 3.3)"
   ]
  },
  {
   "cell_type": "markdown",
   "metadata": {},
   "source": [
    "## I-equivalence\n",
    "\n",
    "Different graph strcutures can correspond to the same set of conditional independence statements, and the relationship between the two is given as follows.\n",
    "\n",
    "Koller book (pp. 76)\n",
    "![](./i_eq_Koller.png)\n",
    "\n",
    "slides (from lecture 2):\n",
    "![](./i_eq_10708.png)\n",
    "As seen in the slide, there's **no \"intrinsic\" direction** of influence, simply based on set of conditional independence statements."
   ]
  },
  {
   "cell_type": "markdown",
   "metadata": {},
   "source": [
    "## Alternative, compact representations of BN\n",
    "\n",
    "Consider a case where a node has 50 parents. Assuming every node is binary, then the local conditional probability table should have about 2^50 terms, which is infeasible. Therefore, some compact (weaker) representation is proposed. \n",
    "\n",
    "One example in Jordan's book (pp. 35, Chapter 2):\n",
    "![image](./compact_Jordan.png)"
   ]
  },
  {
   "cell_type": "markdown",
   "metadata": {},
   "source": [
    "## Other stuffs\n",
    "\n",
    "Koller and 10-708 also discuss minimal I-map, etc. But they are mainly about how to learn a BN from a set of conditional independencies in the data. Currently I'm not interested in such topics, so I just skip them.\n",
    "\n",
    "Another tricky thing Koller mentions is that in defining a BN, some nodes can have conditional probability distribution with some value being zero. I would say if it's zero, you should simply not model it, as this makes defining conditional probability given some zero probability event to be tricky, and also in MRF, zero probability is not allowed according to Koller (see Theorem 4.2 (pp. 116) of Koller's book)."
   ]
  }
 ],
 "metadata": {
  "kernelspec": {
   "display_name": "Python 3",
   "language": "python",
   "name": "python3"
  },
  "language_info": {
   "codemirror_mode": {
    "name": "ipython",
    "version": 3
   },
   "file_extension": ".py",
   "mimetype": "text/x-python",
   "name": "python",
   "nbconvert_exporter": "python",
   "pygments_lexer": "ipython3",
   "version": "3.5.2"
  }
 },
 "nbformat": 4,
 "nbformat_minor": 1
}
