{
 "cells": [
  {
   "cell_type": "markdown",
   "metadata": {},
   "source": [
    "VE is a very easy to understand algorithm in terms of implementation. Here I want to discuss its complexity\u0010.\n",
    "\n",
    "\n",
    "### Induced Graph\n",
    "Basically, during VE, an **induced graph** (Koller's book) or **reconstituted graph** (Jordan's book) is implicitly constructed, given the original graph, and an elimination ordering.\n",
    "\n",
    "Induced Graph (pp. 308, Koller's book):\n",
    "![image](./VE/induced_graph_def_Koller.png)\n",
    "\n",
    "Reconstituted Graph (pp. 13, Jordan's book):\n",
    "![image](./VE/induced_graph_Jordan_2.png)\n",
    "where `UndirectedGraphEliminate` is defined as follows (pp. 13, Jordan's book):\n",
    "![image](./VE/induced_graph_Jordan_1.png)\n",
    "The graphs obtained during steps of `UndirectedGraphEliminate` are just \"graphs resulting from the different steps of the variable elimination algorithm\" in Koller's definition; here Jordan specifies how these graphs are obtained more explicitly, using an algorithm. Koller simply assumes that you know how to get the underlying graphs based on the original graph and the elimination ordering.\n",
    "\n",
    "### Property of Induced Graph\n",
    "The complexity of variable elimination depends on the maximum factor encountered during the computation. And the size of this factor can be read out from the induced graph.\n",
    "\n",
    "pp. 309, Koller's book:\n",
    "![image](./VE/induced_graph_property_Koller.png)\n",
    "The second property is very important. It tell us that we just need to find an induced graph with small cliques. Or more precisely (pp. 310, Koller's book):\n",
    "![image](./VE/induced_graph_implications.png)\n",
    "\n",
    "The proof for Theorem 9.6 is very easy to follow.\n",
    "\n",
    "### Induced Graph and Chordal Graph\n",
    "Now we have the problem of finding induced graphs with small cliques. It turns out that we can achieve this by finding chordal graphs with small cliques.\n",
    "\n",
    "pp. 311, Koller's book:\n",
    "![image](./VE/induced_and_chordal_graph_Koller_1.png)\n",
    "![image](./VE/induced_and_chordal_graph_Koller_2.png)\n",
    "\n",
    "definition of fill edge (pp. 308, Koller's book)\n",
    "![image](./VE/fill_edge_def_Koller.png)\n",
    "\n",
    "To be exact, Thm 9.9 means that, for every chordal graph, we can find an elimination order for distributions defined on that graph, without introducing any new edge.\n",
    "\n",
    "For the proof of 9.8, the one in the book depends on some arguments developed when proving 9.6. Or you may simply check the one given below in Jordan's book.\n",
    "\n",
    "For the proof of 9.9, I should add that, in that proof, it says that chordal graph has clique tree. I suggest you don't get this from Thm 4.12, which is faulty as discussed in my note for Chapter 4 of Koller's book; instead, you should get this from other sources, such as the one given in `05_Junction_Tree`, originally from [Undirected Graphical Models: Chordal Graphs, Decomposable Graphs, Junction Trees, and Factorizations](https://people.eecs.berkeley.edu/~bartlett/courses/2009fall-cs281a/graphnotes.pdf). Then, you should use Thm 10.6 to make the tree compact, so that each leaf node has some unique variables, to make the argument in the proof applicable."
   ]
  },
  {
   "cell_type": "markdown",
   "metadata": {},
   "source": [
    "## Variable elimination gives triangulated graph\n",
    "pp. 26 of Jordan's book tells us that the underlying induced graph or reconstituted graph for VE is a triangulated graph (similar statements should have been made in Koller's book as well, as seen above):\n",
    "![image](./VE_Tri/VE_Tri_Jordan.png)\n",
    "Notice that I think here Jordan is discussing the induced or reconstituted graph, or the union of all intermediate results produced by that elimination algorithm. Also, I want to clarify the proof a little bit. \n",
    "\n",
    "Given a graph with $N+1$ nodes and the induction hypothesis that doing VE on a graph with N nodes or fewer should give a chordal reconstituted graph, we first eliminate one node from the $N+1$ node graph. The final reconstituted graph is the union of the reconstituted graph on the remaining $N$ nodes, as well as those created when eliminating the first node. Based on hypothesis, the subgraph of induced/reconstituted graph involving those $N$ nodes are chordal. So if the induced/reconstituted graph for all $N+1$ nodes can be non-chordal, we must have a chordless cycle involing the first node to be eliminated. However, this means that that node as well as two of its neighbors must be in that cycle. But by construction, that two neighbors are connected, forming a chord."
   ]
  }
 ],
 "metadata": {
  "kernelspec": {
   "display_name": "Python 3",
   "language": "python",
   "name": "python3"
  },
  "language_info": {
   "codemirror_mode": {
    "name": "ipython",
    "version": 3
   },
   "file_extension": ".py",
   "mimetype": "text/x-python",
   "name": "python",
   "nbconvert_exporter": "python",
   "pygments_lexer": "ipython3",
   "version": "3.5.2"
  }
 },
 "nbformat": 4,
 "nbformat_minor": 1
}
