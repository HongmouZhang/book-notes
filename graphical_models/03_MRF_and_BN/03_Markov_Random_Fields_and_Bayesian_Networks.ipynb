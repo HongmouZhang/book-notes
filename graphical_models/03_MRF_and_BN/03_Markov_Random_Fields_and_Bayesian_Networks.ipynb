{
 "cells": [
  {
   "cell_type": "markdown",
   "metadata": {},
   "source": [
    "# Graphical Models Part 3: Markov Random Fields and Bayesian Networks\n",
    "\n",
    "This document is about the relationship between Markov Random Fields and Bayesian Networks.\n",
    "\n",
    "## Chordal graph is the intersection of MRF and BN.\n",
    "\n",
    "Section 4.5 of Koller's book discusses conversion between MRF and BN, as well as the loss of information during this process. They represent different sets of independence statements. Basically, the set of independence statements they are capable to enforce in their formulations are as follows.\n",
    "\n",
    "10708 slides (pp. 29, lecture 3):\n",
    "![image](./venn_10708.png)\n",
    "\n",
    "Their intersection are chordal graphs.\n",
    "\n",
    "Definition of chordal graph (pp. 38 of Koller's book):\n",
    "![image](./chordal_def_Koller.png)\n",
    "\n",
    "Chordal being the intersection (pp. 142 of Koller's book):\n",
    "![image](./chordal_result_Koller.png)\n",
    "\n",
    "In Section 4.5 of Koller's book, she also introduces the notion of clique tree. I will discuss clique in the document about junction tree algorithm.\n",
    "\n",
    "\n",
    "## Misc.\n",
    "\n",
    "These are some bits and pieces from different places that are not well organized.\n",
    "\n",
    "* pp. 139 of Koller’s book. any non triangulated loop of length at least 4 in a Bayesian network graph contains an immorality. This is true, considering the direction of arrows for all these nodes along a loop. one node must have opposing arrows coming in (otherwise can’t be a DAG), and then its two neighbors are immoral."
   ]
  }
 ],
 "metadata": {
  "kernelspec": {
   "display_name": "Python 3",
   "language": "python",
   "name": "python3"
  },
  "language_info": {
   "codemirror_mode": {
    "name": "ipython",
    "version": 3
   },
   "file_extension": ".py",
   "mimetype": "text/x-python",
   "name": "python",
   "nbconvert_exporter": "python",
   "pygments_lexer": "ipython3",
   "version": "3.5.2"
  }
 },
 "nbformat": 4,
 "nbformat_minor": 1
}
